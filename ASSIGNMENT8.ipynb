{
  "nbformat": 4,
  "nbformat_minor": 0,
  "metadata": {
    "colab": {
      "name": "ASSIGNMENT8.ipynb",
      "provenance": [],
      "authorship_tag": "ABX9TyMhlkQ7zD/PaqkeClbgAql/",
      "include_colab_link": true
    },
    "kernelspec": {
      "name": "python3",
      "display_name": "Python 3"
    }
  },
  "cells": [
    {
      "cell_type": "markdown",
      "metadata": {
        "id": "view-in-github",
        "colab_type": "text"
      },
      "source": [
        "<a href=\"https://colab.research.google.com/github/AYESHAHANNURE25/letsupgradebatch7/blob/master/ASSIGNMENT8.ipynb\" target=\"_parent\"><img src=\"https://colab.research.google.com/assets/colab-badge.svg\" alt=\"Open In Colab\"/></a>"
      ]
    },
    {
      "cell_type": "code",
      "metadata": {
        "id": "pcffxOIKmC7Z",
        "colab_type": "code",
        "colab": {}
      },
      "source": [
        "#QUESTION-1\n",
        "# Decorator\n",
        "\n",
        "def getInput(calculate_arg_fun):\n",
        "    \n",
        "    def wrap_function():\n",
        "    \n",
        "        a = int(input(\"Enter First Number - \"))\n",
        "        \n",
        "        b = int(input(\"Enter Second Number - \"))\n",
        "        \n",
        "        calculate_arg_fun(a,b)   \n",
        "    \n",
        "    return wrap_function\n",
        "# calling decorator for input\n",
        "\n",
        "@getInput\n",
        "\n",
        "def EvenFinder(start, last):\n",
        "    \n",
        "    print(\"The Even numbers in the range\",start,\"to\",last,\"is :\")\n",
        "\n",
        "    for n in range(start, last + 1): \n",
        "      \n",
        "        if n % 2 == 0:             \n",
        "            print(n, end = \" \")\n",
        "EvenFinder()\n",
        "\n",
        "\n",
        "#\n",
        "print(' ')\n",
        "print(' ')\n",
        "print(' ')\n",
        "print(' ')\n",
        "#"
      ],
      "execution_count": null,
      "outputs": []
    },
    {
      "cell_type": "code",
      "metadata": {
        "id": "hvU5pH-wmb60",
        "colab_type": "code",
        "colab": {}
      },
      "source": [
        "#QUESTION-2\n",
        "#Handling the exception\n",
        "%%writefile test.txt\n",
        "Hi this is ayesha \n",
        "i love python\n",
        "\n",
        "\n",
        "# opening file in read mode and trying to write \n",
        "\n",
        "try:\n",
        "    \n",
        "    file = open(\"test.txt\",\"r\")\n",
        "    \n",
        "    file.write(\"I am from salem.\")\n",
        "    \n",
        "    print(\"Write operation has done successfully in read only mode.\")\n",
        "    \n",
        "except Exception as e:\n",
        "    \n",
        "    print(\"Error has been occured\")\n",
        "    \n",
        "    print(\"Error message is :\",e)"
      ],
      "execution_count": null,
      "outputs": []
    }
  ]
}