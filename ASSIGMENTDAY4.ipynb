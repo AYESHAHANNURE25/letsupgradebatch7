{
  "nbformat": 4,
  "nbformat_minor": 0,
  "metadata": {
    "colab": {
      "name": "ASSIGMENTDAY4.ipynb",
      "provenance": [],
      "authorship_tag": "ABX9TyNRTX6oruCUZwn/XtsQIxge",
      "include_colab_link": true
    },
    "kernelspec": {
      "name": "python3",
      "display_name": "Python 3"
    }
  },
  "cells": [
    {
      "cell_type": "markdown",
      "metadata": {
        "id": "view-in-github",
        "colab_type": "text"
      },
      "source": [
        "<a href=\"https://colab.research.google.com/github/AYESHAHANNURE25/letsupgradebatch7/blob/master/ASSIGMENTDAY4.ipynb\" target=\"_parent\"><img src=\"https://colab.research.google.com/assets/colab-badge.svg\" alt=\"Open In Colab\"/></a>"
      ]
    },
    {
      "cell_type": "code",
      "metadata": {
        "id": "bvPwJGrEkZqD",
        "colab_type": "code",
        "colab": {
          "base_uri": "https://localhost:8080/",
          "height": 68
        },
        "outputId": "762dd793-242b-4d26-bafa-bbc000e3449c"
      },
      "source": [
        "#PRINT THE FIRST AMSTRONG NUMBER RANGE 1042000 TO 702648265#\n",
        "\n",
        "lower = int(input(\"Enter lower range: \"))\n",
        "upper = int(input(\"Enter upper range: \"))\n",
        "for num in range(lower, upper + 1):\n",
        "    order = len(str(num))\n",
        "    sum = 0\n",
        "    #find the sum of the cube of each digit\n",
        "    temp = num\n",
        "    while temp > 0:\n",
        "        digit = temp % 10\n",
        "        sum += digit ** order \n",
        "        temp //= 10\n",
        "    if num == sum:\n",
        "        print(num, end = ' ')"
      ],
      "execution_count": null,
      "outputs": [
        {
          "output_type": "stream",
          "text": [
            "Enter lower range: 1042000\n",
            "Enter upper range: 702648265\n",
            "1741725 4210818 9800817 9926315 24678050 24678051 "
          ],
          "name": "stdout"
        }
      ]
    }
  ]
}